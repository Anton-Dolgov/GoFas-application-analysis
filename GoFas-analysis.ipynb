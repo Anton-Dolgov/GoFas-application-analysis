{
 "cells": [
  {
   "cell_type": "markdown",
   "id": "7373a63f",
   "metadata": {},
   "source": [
    "Описание проекта\n",
    "Мне передали данные о некоторых пользователях, сервиса аренды самокатов GoFast, из нескольких городов, а также об их поездках. Необходимо проанализировать данные и проверить некоторые гипотезы, которые могут помочь бизнесу вырасти.\n",
    "Чтобы совершать поездки по городу, пользователи сервиса GoFast пользуются мобильным приложением. Сервисом можно пользоваться:\n",
    "без подписки:\n",
    "абонентская плата отсутствует; стоимость одной минуты поездки — 8 рублей;стоимость старта (начала поездки) — 50 рублей;\n",
    "с подпиской Ultra:\n",
    "абонентская плата — 199 рублей в месяц;стоимость одной минуты поездки — 6 рублей;стоимость старта — бесплатно.\n",
    "\n",
    "В основных данных есть информация о пользователях, их поездках и подписках:\n",
    "\n",
    "Пользователи — users_go.csv:\n",
    "\n",
    "user_id - уникальный идентификатор пользователя\n",
    "name - имя пользователя\n",
    "age - возраст\n",
    "city - город\n",
    "subscription_type - тип подписки (free, ultra)\n",
    "\n",
    "Поездки — rides_go.csv:\n",
    "\n",
    "user_id\t- уникальный идентификатор пользователя\n",
    "distance - расстояние, которое пользователь проехал в текущей сессии (в метрах)\n",
    "duration - продолжительность сессии (в минутах) — время с того момента, как пользователь нажал кнопку «Начать поездку» до момента, как он нажал кнопку «Завершить поездку»\n",
    "date - дата совершения поездки\n",
    "\n",
    "Подписки — subscriptions_go.csv\n",
    "\n",
    "subscription_type - тип подписки\n",
    "minute_price-  стоимость одной минуты поездки по данной подписке\n",
    "start_ride_price - стоимость начала поездки\n",
    "subscription_fee - стоимость ежемесячного платежа"
   ]
  },
  {
   "cell_type": "code",
   "execution_count": 1,
   "id": "72576667",
   "metadata": {},
   "outputs": [],
   "source": [
    "import pandas as pd\n",
    "import matplotlib.pyplot as plt\n",
    "import seaborn as sns\n",
    "import plotly.express as px\n",
    "import numpy as np\n",
    "from scipy import stats as st"
   ]
  },
  {
   "cell_type": "markdown",
   "id": "c42cbe00",
   "metadata": {},
   "source": [
    "#### Шаг 1. Загрузка данных"
   ]
  },
  {
   "cell_type": "markdown",
   "id": "0b147d6c",
   "metadata": {},
   "source": [
    "1.1 Считайте CSV-файлы с данными с помощью библиотеки pandas и сохраните их в датафреймы. Пути к файлам:\n",
    "/datasets/users_go.csv\n",
    "/datasets/rides_go.csv\n",
    "/datasets/subscriptions_go.csv\n",
    "1.2 Выведите первые строки каждого набора данных. Изучите общую информацию о каждом датафрейме."
   ]
  },
  {
   "cell_type": "code",
   "execution_count": 2,
   "id": "6acaf2fd",
   "metadata": {},
   "outputs": [],
   "source": [
    "data_users = pd.read_csv('/datasets/users_go.csv')\n",
    "data_rides = pd.read_csv('/datasets/rides_go.csv')\n",
    "data_subscription = pd.read_csv('/datasets/subscriptions_go.csv')"
   ]
  },
  {
   "cell_type": "code",
   "execution_count": 3,
   "id": "ae13f642",
   "metadata": {},
   "outputs": [
    {
     "name": "stdout",
     "output_type": "stream",
     "text": [
      "<class 'pandas.core.frame.DataFrame'>\n",
      "RangeIndex: 1565 entries, 0 to 1564\n",
      "Data columns (total 5 columns):\n",
      " #   Column             Non-Null Count  Dtype \n",
      "---  ------             --------------  ----- \n",
      " 0   user_id            1565 non-null   int64 \n",
      " 1   name               1565 non-null   object\n",
      " 2   age                1565 non-null   int64 \n",
      " 3   city               1565 non-null   object\n",
      " 4   subscription_type  1565 non-null   object\n",
      "dtypes: int64(2), object(3)\n",
      "memory usage: 61.3+ KB\n"
     ]
    }
   ],
   "source": [
    "data_users.info()"
   ]
  },
  {
   "cell_type": "code",
   "execution_count": 4,
   "id": "b3f34149",
   "metadata": {},
   "outputs": [
    {
     "data": {
      "text/html": [
       "<div>\n",
       "<style scoped>\n",
       "    .dataframe tbody tr th:only-of-type {\n",
       "        vertical-align: middle;\n",
       "    }\n",
       "\n",
       "    .dataframe tbody tr th {\n",
       "        vertical-align: top;\n",
       "    }\n",
       "\n",
       "    .dataframe thead th {\n",
       "        text-align: right;\n",
       "    }\n",
       "</style>\n",
       "<table border=\"1\" class=\"dataframe\">\n",
       "  <thead>\n",
       "    <tr style=\"text-align: right;\">\n",
       "      <th></th>\n",
       "      <th>user_id</th>\n",
       "      <th>age</th>\n",
       "    </tr>\n",
       "  </thead>\n",
       "  <tbody>\n",
       "    <tr>\n",
       "      <th>count</th>\n",
       "      <td>1565.000000</td>\n",
       "      <td>1565.000000</td>\n",
       "    </tr>\n",
       "    <tr>\n",
       "      <th>mean</th>\n",
       "      <td>762.633866</td>\n",
       "      <td>24.922045</td>\n",
       "    </tr>\n",
       "    <tr>\n",
       "      <th>std</th>\n",
       "      <td>443.260155</td>\n",
       "      <td>4.553496</td>\n",
       "    </tr>\n",
       "    <tr>\n",
       "      <th>min</th>\n",
       "      <td>1.000000</td>\n",
       "      <td>12.000000</td>\n",
       "    </tr>\n",
       "    <tr>\n",
       "      <th>25%</th>\n",
       "      <td>378.000000</td>\n",
       "      <td>22.000000</td>\n",
       "    </tr>\n",
       "    <tr>\n",
       "      <th>50%</th>\n",
       "      <td>762.000000</td>\n",
       "      <td>25.000000</td>\n",
       "    </tr>\n",
       "    <tr>\n",
       "      <th>75%</th>\n",
       "      <td>1146.000000</td>\n",
       "      <td>28.000000</td>\n",
       "    </tr>\n",
       "    <tr>\n",
       "      <th>max</th>\n",
       "      <td>1534.000000</td>\n",
       "      <td>43.000000</td>\n",
       "    </tr>\n",
       "  </tbody>\n",
       "</table>\n",
       "</div>"
      ],
      "text/plain": [
       "           user_id          age\n",
       "count  1565.000000  1565.000000\n",
       "mean    762.633866    24.922045\n",
       "std     443.260155     4.553496\n",
       "min       1.000000    12.000000\n",
       "25%     378.000000    22.000000\n",
       "50%     762.000000    25.000000\n",
       "75%    1146.000000    28.000000\n",
       "max    1534.000000    43.000000"
      ]
     },
     "execution_count": 4,
     "metadata": {},
     "output_type": "execute_result"
    }
   ],
   "source": [
    "data_users.describe()"
   ]
  },
  {
   "cell_type": "code",
   "execution_count": 5,
   "id": "4044dc6c",
   "metadata": {},
   "outputs": [
    {
     "data": {
      "text/html": [
       "<div>\n",
       "<style scoped>\n",
       "    .dataframe tbody tr th:only-of-type {\n",
       "        vertical-align: middle;\n",
       "    }\n",
       "\n",
       "    .dataframe tbody tr th {\n",
       "        vertical-align: top;\n",
       "    }\n",
       "\n",
       "    .dataframe thead th {\n",
       "        text-align: right;\n",
       "    }\n",
       "</style>\n",
       "<table border=\"1\" class=\"dataframe\">\n",
       "  <thead>\n",
       "    <tr style=\"text-align: right;\">\n",
       "      <th></th>\n",
       "      <th>user_id</th>\n",
       "      <th>name</th>\n",
       "      <th>age</th>\n",
       "      <th>city</th>\n",
       "      <th>subscription_type</th>\n",
       "    </tr>\n",
       "  </thead>\n",
       "  <tbody>\n",
       "    <tr>\n",
       "      <th>0</th>\n",
       "      <td>1</td>\n",
       "      <td>Кира</td>\n",
       "      <td>22</td>\n",
       "      <td>Тюмень</td>\n",
       "      <td>ultra</td>\n",
       "    </tr>\n",
       "    <tr>\n",
       "      <th>1</th>\n",
       "      <td>2</td>\n",
       "      <td>Станислав</td>\n",
       "      <td>31</td>\n",
       "      <td>Омск</td>\n",
       "      <td>ultra</td>\n",
       "    </tr>\n",
       "    <tr>\n",
       "      <th>2</th>\n",
       "      <td>3</td>\n",
       "      <td>Алексей</td>\n",
       "      <td>20</td>\n",
       "      <td>Москва</td>\n",
       "      <td>ultra</td>\n",
       "    </tr>\n",
       "    <tr>\n",
       "      <th>3</th>\n",
       "      <td>4</td>\n",
       "      <td>Константин</td>\n",
       "      <td>26</td>\n",
       "      <td>Ростов-на-Дону</td>\n",
       "      <td>ultra</td>\n",
       "    </tr>\n",
       "    <tr>\n",
       "      <th>4</th>\n",
       "      <td>5</td>\n",
       "      <td>Адель</td>\n",
       "      <td>28</td>\n",
       "      <td>Омск</td>\n",
       "      <td>ultra</td>\n",
       "    </tr>\n",
       "  </tbody>\n",
       "</table>\n",
       "</div>"
      ],
      "text/plain": [
       "   user_id        name  age            city subscription_type\n",
       "0        1        Кира   22          Тюмень             ultra\n",
       "1        2   Станислав   31            Омск             ultra\n",
       "2        3     Алексей   20          Москва             ultra\n",
       "3        4  Константин   26  Ростов-на-Дону             ultra\n",
       "4        5       Адель   28            Омск             ultra"
      ]
     },
     "execution_count": 5,
     "metadata": {},
     "output_type": "execute_result"
    }
   ],
   "source": [
    "data_users.head(5)"
   ]
  },
  {
   "cell_type": "code",
   "execution_count": 6,
   "id": "c540ec6c",
   "metadata": {},
   "outputs": [
    {
     "name": "stdout",
     "output_type": "stream",
     "text": [
      "<class 'pandas.core.frame.DataFrame'>\n",
      "RangeIndex: 18068 entries, 0 to 18067\n",
      "Data columns (total 4 columns):\n",
      " #   Column    Non-Null Count  Dtype  \n",
      "---  ------    --------------  -----  \n",
      " 0   user_id   18068 non-null  int64  \n",
      " 1   distance  18068 non-null  float64\n",
      " 2   duration  18068 non-null  float64\n",
      " 3   date      18068 non-null  object \n",
      "dtypes: float64(2), int64(1), object(1)\n",
      "memory usage: 564.8+ KB\n"
     ]
    }
   ],
   "source": [
    "data_rides.info()"
   ]
  },
  {
   "cell_type": "code",
   "execution_count": 7,
   "id": "a46f89be",
   "metadata": {},
   "outputs": [
    {
     "data": {
      "text/html": [
       "<div>\n",
       "<style scoped>\n",
       "    .dataframe tbody tr th:only-of-type {\n",
       "        vertical-align: middle;\n",
       "    }\n",
       "\n",
       "    .dataframe tbody tr th {\n",
       "        vertical-align: top;\n",
       "    }\n",
       "\n",
       "    .dataframe thead th {\n",
       "        text-align: right;\n",
       "    }\n",
       "</style>\n",
       "<table border=\"1\" class=\"dataframe\">\n",
       "  <thead>\n",
       "    <tr style=\"text-align: right;\">\n",
       "      <th></th>\n",
       "      <th>user_id</th>\n",
       "      <th>distance</th>\n",
       "      <th>duration</th>\n",
       "    </tr>\n",
       "  </thead>\n",
       "  <tbody>\n",
       "    <tr>\n",
       "      <th>count</th>\n",
       "      <td>18068.000000</td>\n",
       "      <td>18068.000000</td>\n",
       "      <td>18068.000000</td>\n",
       "    </tr>\n",
       "    <tr>\n",
       "      <th>mean</th>\n",
       "      <td>842.869936</td>\n",
       "      <td>3070.659976</td>\n",
       "      <td>17.805011</td>\n",
       "    </tr>\n",
       "    <tr>\n",
       "      <th>std</th>\n",
       "      <td>434.734317</td>\n",
       "      <td>1116.831209</td>\n",
       "      <td>6.091051</td>\n",
       "    </tr>\n",
       "    <tr>\n",
       "      <th>min</th>\n",
       "      <td>1.000000</td>\n",
       "      <td>0.855683</td>\n",
       "      <td>0.500000</td>\n",
       "    </tr>\n",
       "    <tr>\n",
       "      <th>25%</th>\n",
       "      <td>487.000000</td>\n",
       "      <td>2543.226360</td>\n",
       "      <td>13.597563</td>\n",
       "    </tr>\n",
       "    <tr>\n",
       "      <th>50%</th>\n",
       "      <td>889.000000</td>\n",
       "      <td>3133.609994</td>\n",
       "      <td>17.678395</td>\n",
       "    </tr>\n",
       "    <tr>\n",
       "      <th>75%</th>\n",
       "      <td>1213.250000</td>\n",
       "      <td>3776.222735</td>\n",
       "      <td>21.724800</td>\n",
       "    </tr>\n",
       "    <tr>\n",
       "      <th>max</th>\n",
       "      <td>1534.000000</td>\n",
       "      <td>7211.007745</td>\n",
       "      <td>40.823963</td>\n",
       "    </tr>\n",
       "  </tbody>\n",
       "</table>\n",
       "</div>"
      ],
      "text/plain": [
       "            user_id      distance      duration\n",
       "count  18068.000000  18068.000000  18068.000000\n",
       "mean     842.869936   3070.659976     17.805011\n",
       "std      434.734317   1116.831209      6.091051\n",
       "min        1.000000      0.855683      0.500000\n",
       "25%      487.000000   2543.226360     13.597563\n",
       "50%      889.000000   3133.609994     17.678395\n",
       "75%     1213.250000   3776.222735     21.724800\n",
       "max     1534.000000   7211.007745     40.823963"
      ]
     },
     "execution_count": 7,
     "metadata": {},
     "output_type": "execute_result"
    }
   ],
   "source": [
    "data_rides.describe()"
   ]
  },
  {
   "cell_type": "code",
   "execution_count": 8,
   "id": "0333d66d",
   "metadata": {},
   "outputs": [
    {
     "data": {
      "text/html": [
       "<div>\n",
       "<style scoped>\n",
       "    .dataframe tbody tr th:only-of-type {\n",
       "        vertical-align: middle;\n",
       "    }\n",
       "\n",
       "    .dataframe tbody tr th {\n",
       "        vertical-align: top;\n",
       "    }\n",
       "\n",
       "    .dataframe thead th {\n",
       "        text-align: right;\n",
       "    }\n",
       "</style>\n",
       "<table border=\"1\" class=\"dataframe\">\n",
       "  <thead>\n",
       "    <tr style=\"text-align: right;\">\n",
       "      <th></th>\n",
       "      <th>user_id</th>\n",
       "      <th>distance</th>\n",
       "      <th>duration</th>\n",
       "      <th>date</th>\n",
       "    </tr>\n",
       "  </thead>\n",
       "  <tbody>\n",
       "    <tr>\n",
       "      <th>0</th>\n",
       "      <td>1</td>\n",
       "      <td>4409.919140</td>\n",
       "      <td>25.599769</td>\n",
       "      <td>2021-01-01</td>\n",
       "    </tr>\n",
       "    <tr>\n",
       "      <th>1</th>\n",
       "      <td>1</td>\n",
       "      <td>2617.592153</td>\n",
       "      <td>15.816871</td>\n",
       "      <td>2021-01-18</td>\n",
       "    </tr>\n",
       "    <tr>\n",
       "      <th>2</th>\n",
       "      <td>1</td>\n",
       "      <td>754.159807</td>\n",
       "      <td>6.232113</td>\n",
       "      <td>2021-04-20</td>\n",
       "    </tr>\n",
       "    <tr>\n",
       "      <th>3</th>\n",
       "      <td>1</td>\n",
       "      <td>2694.783254</td>\n",
       "      <td>18.511000</td>\n",
       "      <td>2021-08-11</td>\n",
       "    </tr>\n",
       "    <tr>\n",
       "      <th>4</th>\n",
       "      <td>1</td>\n",
       "      <td>4028.687306</td>\n",
       "      <td>26.265803</td>\n",
       "      <td>2021-08-28</td>\n",
       "    </tr>\n",
       "  </tbody>\n",
       "</table>\n",
       "</div>"
      ],
      "text/plain": [
       "   user_id     distance   duration        date\n",
       "0        1  4409.919140  25.599769  2021-01-01\n",
       "1        1  2617.592153  15.816871  2021-01-18\n",
       "2        1   754.159807   6.232113  2021-04-20\n",
       "3        1  2694.783254  18.511000  2021-08-11\n",
       "4        1  4028.687306  26.265803  2021-08-28"
      ]
     },
     "execution_count": 8,
     "metadata": {},
     "output_type": "execute_result"
    }
   ],
   "source": [
    "data_rides.head(5)"
   ]
  },
  {
   "cell_type": "code",
   "execution_count": 9,
   "id": "5cf9ef63",
   "metadata": {},
   "outputs": [
    {
     "name": "stdout",
     "output_type": "stream",
     "text": [
      "<class 'pandas.core.frame.DataFrame'>\n",
      "RangeIndex: 2 entries, 0 to 1\n",
      "Data columns (total 4 columns):\n",
      " #   Column             Non-Null Count  Dtype \n",
      "---  ------             --------------  ----- \n",
      " 0   subscription_type  2 non-null      object\n",
      " 1   minute_price       2 non-null      int64 \n",
      " 2   start_ride_price   2 non-null      int64 \n",
      " 3   subscription_fee   2 non-null      int64 \n",
      "dtypes: int64(3), object(1)\n",
      "memory usage: 192.0+ bytes\n"
     ]
    }
   ],
   "source": [
    "data_subscription.info()"
   ]
  },
  {
   "cell_type": "code",
   "execution_count": 10,
   "id": "7d822c2a",
   "metadata": {},
   "outputs": [
    {
     "data": {
      "text/html": [
       "<div>\n",
       "<style scoped>\n",
       "    .dataframe tbody tr th:only-of-type {\n",
       "        vertical-align: middle;\n",
       "    }\n",
       "\n",
       "    .dataframe tbody tr th {\n",
       "        vertical-align: top;\n",
       "    }\n",
       "\n",
       "    .dataframe thead th {\n",
       "        text-align: right;\n",
       "    }\n",
       "</style>\n",
       "<table border=\"1\" class=\"dataframe\">\n",
       "  <thead>\n",
       "    <tr style=\"text-align: right;\">\n",
       "      <th></th>\n",
       "      <th>minute_price</th>\n",
       "      <th>start_ride_price</th>\n",
       "      <th>subscription_fee</th>\n",
       "    </tr>\n",
       "  </thead>\n",
       "  <tbody>\n",
       "    <tr>\n",
       "      <th>count</th>\n",
       "      <td>2.000000</td>\n",
       "      <td>2.000000</td>\n",
       "      <td>2.000000</td>\n",
       "    </tr>\n",
       "    <tr>\n",
       "      <th>mean</th>\n",
       "      <td>7.000000</td>\n",
       "      <td>25.000000</td>\n",
       "      <td>99.500000</td>\n",
       "    </tr>\n",
       "    <tr>\n",
       "      <th>std</th>\n",
       "      <td>1.414214</td>\n",
       "      <td>35.355339</td>\n",
       "      <td>140.714249</td>\n",
       "    </tr>\n",
       "    <tr>\n",
       "      <th>min</th>\n",
       "      <td>6.000000</td>\n",
       "      <td>0.000000</td>\n",
       "      <td>0.000000</td>\n",
       "    </tr>\n",
       "    <tr>\n",
       "      <th>25%</th>\n",
       "      <td>6.500000</td>\n",
       "      <td>12.500000</td>\n",
       "      <td>49.750000</td>\n",
       "    </tr>\n",
       "    <tr>\n",
       "      <th>50%</th>\n",
       "      <td>7.000000</td>\n",
       "      <td>25.000000</td>\n",
       "      <td>99.500000</td>\n",
       "    </tr>\n",
       "    <tr>\n",
       "      <th>75%</th>\n",
       "      <td>7.500000</td>\n",
       "      <td>37.500000</td>\n",
       "      <td>149.250000</td>\n",
       "    </tr>\n",
       "    <tr>\n",
       "      <th>max</th>\n",
       "      <td>8.000000</td>\n",
       "      <td>50.000000</td>\n",
       "      <td>199.000000</td>\n",
       "    </tr>\n",
       "  </tbody>\n",
       "</table>\n",
       "</div>"
      ],
      "text/plain": [
       "       minute_price  start_ride_price  subscription_fee\n",
       "count      2.000000          2.000000          2.000000\n",
       "mean       7.000000         25.000000         99.500000\n",
       "std        1.414214         35.355339        140.714249\n",
       "min        6.000000          0.000000          0.000000\n",
       "25%        6.500000         12.500000         49.750000\n",
       "50%        7.000000         25.000000         99.500000\n",
       "75%        7.500000         37.500000        149.250000\n",
       "max        8.000000         50.000000        199.000000"
      ]
     },
     "execution_count": 10,
     "metadata": {},
     "output_type": "execute_result"
    }
   ],
   "source": [
    "data_subscription.describe()"
   ]
  },
  {
   "cell_type": "code",
   "execution_count": 11,
   "id": "13b4cb4e",
   "metadata": {},
   "outputs": [
    {
     "data": {
      "text/html": [
       "<div>\n",
       "<style scoped>\n",
       "    .dataframe tbody tr th:only-of-type {\n",
       "        vertical-align: middle;\n",
       "    }\n",
       "\n",
       "    .dataframe tbody tr th {\n",
       "        vertical-align: top;\n",
       "    }\n",
       "\n",
       "    .dataframe thead th {\n",
       "        text-align: right;\n",
       "    }\n",
       "</style>\n",
       "<table border=\"1\" class=\"dataframe\">\n",
       "  <thead>\n",
       "    <tr style=\"text-align: right;\">\n",
       "      <th></th>\n",
       "      <th>subscription_type</th>\n",
       "      <th>minute_price</th>\n",
       "      <th>start_ride_price</th>\n",
       "      <th>subscription_fee</th>\n",
       "    </tr>\n",
       "  </thead>\n",
       "  <tbody>\n",
       "    <tr>\n",
       "      <th>0</th>\n",
       "      <td>free</td>\n",
       "      <td>8</td>\n",
       "      <td>50</td>\n",
       "      <td>0</td>\n",
       "    </tr>\n",
       "    <tr>\n",
       "      <th>1</th>\n",
       "      <td>ultra</td>\n",
       "      <td>6</td>\n",
       "      <td>0</td>\n",
       "      <td>199</td>\n",
       "    </tr>\n",
       "  </tbody>\n",
       "</table>\n",
       "</div>"
      ],
      "text/plain": [
       "  subscription_type  minute_price  start_ride_price  subscription_fee\n",
       "0              free             8                50                 0\n",
       "1             ultra             6                 0               199"
      ]
     },
     "execution_count": 11,
     "metadata": {},
     "output_type": "execute_result"
    }
   ],
   "source": [
    "data_subscription.head(5)"
   ]
  },
  {
   "cell_type": "code",
   "execution_count": 12,
   "id": "396ea2f0",
   "metadata": {},
   "outputs": [
    {
     "data": {
      "text/plain": [
       "free     846\n",
       "ultra    719\n",
       "Name: subscription_type, dtype: int64"
      ]
     },
     "execution_count": 12,
     "metadata": {},
     "output_type": "execute_result"
    }
   ],
   "source": [
    "count_sub = data_users['subscription_type'].value_counts()\n",
    "count_sub"
   ]
  },
  {
   "cell_type": "markdown",
   "id": "d26a8bd4",
   "metadata": {},
   "source": [
    "Вывод\n",
    "\n",
    "После первичного анализа данных можем сказать следующее:\n",
    "\n",
    "Основные пользователи - люди от 20 до 30 лет\n",
    "Средняя дистанция в пути составляет 3070м\n",
    "Среднее время в пути 17 минут\n",
    "Преобладают пользователи с бесплатным тарифом (54%)"
   ]
  },
  {
   "cell_type": "markdown",
   "id": "e95ebca7",
   "metadata": {},
   "source": [
    "#### Шаг 2. Предобработка данных"
   ]
  },
  {
   "cell_type": "markdown",
   "id": "010cdd1b",
   "metadata": {},
   "source": [
    "2.1 Приведите столбец date к типу даты pandas.\n",
    "2.2 Создайте новый столбец с номером месяца на основе столбца date.\n",
    "2.3 Проверьте наличие пропущенных значений и дубликатов в датафреймах. Обработайте их, если такие значения присутствуют."
   ]
  },
  {
   "cell_type": "markdown",
   "id": "24132df7",
   "metadata": {},
   "source": [
    "Приведу столбец date к типу даты pandas."
   ]
  },
  {
   "cell_type": "code",
   "execution_count": 13,
   "id": "58d728f9",
   "metadata": {},
   "outputs": [],
   "source": [
    "data_rides['date'] = pd.to_datetime(data_rides['date'], format='%Y-%m-%d')"
   ]
  },
  {
   "cell_type": "markdown",
   "id": "f02ab3cc",
   "metadata": {},
   "source": [
    "Создаю новый столбец с номером месяца на основе столбца date."
   ]
  },
  {
   "cell_type": "code",
   "execution_count": 14,
   "id": "ea084dcd",
   "metadata": {},
   "outputs": [],
   "source": [
    "data_rides['month'] = pd.DatetimeIndex(data_rides['date']).month"
   ]
  },
  {
   "cell_type": "markdown",
   "id": "b097514b",
   "metadata": {},
   "source": [
    "Проверяю корректность выполненной задачи"
   ]
  },
  {
   "cell_type": "code",
   "execution_count": 15,
   "id": "80da2d0c",
   "metadata": {},
   "outputs": [
    {
     "data": {
      "text/html": [
       "<div>\n",
       "<style scoped>\n",
       "    .dataframe tbody tr th:only-of-type {\n",
       "        vertical-align: middle;\n",
       "    }\n",
       "\n",
       "    .dataframe tbody tr th {\n",
       "        vertical-align: top;\n",
       "    }\n",
       "\n",
       "    .dataframe thead th {\n",
       "        text-align: right;\n",
       "    }\n",
       "</style>\n",
       "<table border=\"1\" class=\"dataframe\">\n",
       "  <thead>\n",
       "    <tr style=\"text-align: right;\">\n",
       "      <th></th>\n",
       "      <th>user_id</th>\n",
       "      <th>distance</th>\n",
       "      <th>duration</th>\n",
       "      <th>date</th>\n",
       "      <th>month</th>\n",
       "    </tr>\n",
       "  </thead>\n",
       "  <tbody>\n",
       "    <tr>\n",
       "      <th>0</th>\n",
       "      <td>1</td>\n",
       "      <td>4409.919140</td>\n",
       "      <td>25.599769</td>\n",
       "      <td>2021-01-01</td>\n",
       "      <td>1</td>\n",
       "    </tr>\n",
       "    <tr>\n",
       "      <th>1</th>\n",
       "      <td>1</td>\n",
       "      <td>2617.592153</td>\n",
       "      <td>15.816871</td>\n",
       "      <td>2021-01-18</td>\n",
       "      <td>1</td>\n",
       "    </tr>\n",
       "    <tr>\n",
       "      <th>2</th>\n",
       "      <td>1</td>\n",
       "      <td>754.159807</td>\n",
       "      <td>6.232113</td>\n",
       "      <td>2021-04-20</td>\n",
       "      <td>4</td>\n",
       "    </tr>\n",
       "    <tr>\n",
       "      <th>3</th>\n",
       "      <td>1</td>\n",
       "      <td>2694.783254</td>\n",
       "      <td>18.511000</td>\n",
       "      <td>2021-08-11</td>\n",
       "      <td>8</td>\n",
       "    </tr>\n",
       "    <tr>\n",
       "      <th>4</th>\n",
       "      <td>1</td>\n",
       "      <td>4028.687306</td>\n",
       "      <td>26.265803</td>\n",
       "      <td>2021-08-28</td>\n",
       "      <td>8</td>\n",
       "    </tr>\n",
       "  </tbody>\n",
       "</table>\n",
       "</div>"
      ],
      "text/plain": [
       "   user_id     distance   duration       date  month\n",
       "0        1  4409.919140  25.599769 2021-01-01      1\n",
       "1        1  2617.592153  15.816871 2021-01-18      1\n",
       "2        1   754.159807   6.232113 2021-04-20      4\n",
       "3        1  2694.783254  18.511000 2021-08-11      8\n",
       "4        1  4028.687306  26.265803 2021-08-28      8"
      ]
     },
     "execution_count": 15,
     "metadata": {},
     "output_type": "execute_result"
    }
   ],
   "source": [
    "data_rides.head(5)"
   ]
  },
  {
   "cell_type": "markdown",
   "id": "73fd8c36",
   "metadata": {},
   "source": [
    "Обрабатываю пропуски и дубликаты"
   ]
  },
  {
   "cell_type": "code",
   "execution_count": 16,
   "id": "6795a9ef",
   "metadata": {},
   "outputs": [
    {
     "data": {
      "text/plain": [
       "user_id              0\n",
       "name                 0\n",
       "age                  0\n",
       "city                 0\n",
       "subscription_type    0\n",
       "dtype: int64"
      ]
     },
     "execution_count": 16,
     "metadata": {},
     "output_type": "execute_result"
    }
   ],
   "source": [
    "data_users.isna().sum()"
   ]
  },
  {
   "cell_type": "code",
   "execution_count": 17,
   "id": "da900fc6",
   "metadata": {},
   "outputs": [
    {
     "data": {
      "text/plain": [
       "user_id              0.0\n",
       "name                 0.0\n",
       "age                  0.0\n",
       "city                 0.0\n",
       "subscription_type    0.0\n",
       "dtype: float64"
      ]
     },
     "execution_count": 17,
     "metadata": {},
     "output_type": "execute_result"
    }
   ],
   "source": [
    "data_users.isna().mean()"
   ]
  },
  {
   "cell_type": "code",
   "execution_count": 18,
   "id": "0ec93080",
   "metadata": {},
   "outputs": [
    {
     "data": {
      "text/plain": [
       "31"
      ]
     },
     "execution_count": 18,
     "metadata": {},
     "output_type": "execute_result"
    }
   ],
   "source": [
    "data_users.duplicated().sum()"
   ]
  },
  {
   "cell_type": "markdown",
   "id": "cdd2b47d",
   "metadata": {},
   "source": [
    "Нашел 31 будликат. Удалю их из данных"
   ]
  },
  {
   "cell_type": "code",
   "execution_count": 19,
   "id": "11580618",
   "metadata": {},
   "outputs": [
    {
     "data": {
      "text/plain": [
       "0"
      ]
     },
     "execution_count": 19,
     "metadata": {},
     "output_type": "execute_result"
    }
   ],
   "source": [
    "data_users = data_users.drop_duplicates()\n",
    "data_users = data_users.reset_index(drop=True)\n",
    "data_users.duplicated().sum()"
   ]
  },
  {
   "cell_type": "markdown",
   "id": "dd941f02",
   "metadata": {},
   "source": [
    "Выполним те же процедуры с оставшимися датафреймами"
   ]
  },
  {
   "cell_type": "code",
   "execution_count": 20,
   "id": "3d1c835c",
   "metadata": {},
   "outputs": [
    {
     "data": {
      "text/plain": [
       "user_id     0\n",
       "distance    0\n",
       "duration    0\n",
       "date        0\n",
       "month       0\n",
       "dtype: int64"
      ]
     },
     "execution_count": 20,
     "metadata": {},
     "output_type": "execute_result"
    }
   ],
   "source": [
    "data_rides.isna().sum()"
   ]
  },
  {
   "cell_type": "code",
   "execution_count": 21,
   "id": "8d8c8f34",
   "metadata": {},
   "outputs": [
    {
     "data": {
      "text/plain": [
       "user_id     0.0\n",
       "distance    0.0\n",
       "duration    0.0\n",
       "date        0.0\n",
       "month       0.0\n",
       "dtype: float64"
      ]
     },
     "execution_count": 21,
     "metadata": {},
     "output_type": "execute_result"
    }
   ],
   "source": [
    "data_rides.isna().mean()"
   ]
  },
  {
   "cell_type": "code",
   "execution_count": 22,
   "id": "1f92c940",
   "metadata": {},
   "outputs": [
    {
     "data": {
      "text/plain": [
       "0"
      ]
     },
     "execution_count": 22,
     "metadata": {},
     "output_type": "execute_result"
    }
   ],
   "source": [
    "data_rides.duplicated().sum()"
   ]
  },
  {
   "cell_type": "markdown",
   "id": "9fd2c1af",
   "metadata": {},
   "source": [
    "Пропуски и дубликаты не выявлены"
   ]
  },
  {
   "cell_type": "code",
   "execution_count": 23,
   "id": "45c96e9a",
   "metadata": {},
   "outputs": [
    {
     "data": {
      "text/plain": [
       "subscription_type    0\n",
       "minute_price         0\n",
       "start_ride_price     0\n",
       "subscription_fee     0\n",
       "dtype: int64"
      ]
     },
     "execution_count": 23,
     "metadata": {},
     "output_type": "execute_result"
    }
   ],
   "source": [
    "data_subscription.isna().sum()"
   ]
  },
  {
   "cell_type": "code",
   "execution_count": 24,
   "id": "75bae860",
   "metadata": {},
   "outputs": [
    {
     "data": {
      "text/plain": [
       "subscription_type    0.0\n",
       "minute_price         0.0\n",
       "start_ride_price     0.0\n",
       "subscription_fee     0.0\n",
       "dtype: float64"
      ]
     },
     "execution_count": 24,
     "metadata": {},
     "output_type": "execute_result"
    }
   ],
   "source": [
    "data_subscription.isna().mean()"
   ]
  },
  {
   "cell_type": "code",
   "execution_count": 25,
   "id": "cdc63b45",
   "metadata": {},
   "outputs": [
    {
     "data": {
      "text/plain": [
       "0"
      ]
     },
     "execution_count": 25,
     "metadata": {},
     "output_type": "execute_result"
    }
   ],
   "source": [
    "data_subscription.duplicated().sum()"
   ]
  },
  {
   "cell_type": "markdown",
   "id": "1deb7af8",
   "metadata": {},
   "source": [
    "На Этапе2 Предобработка данных я проверил 3 актуальных датафрейма на пропуски и дубликаты.\n",
    "В датафрейме data_rides привел столбец date в необходимый вид и создал дополнительный столбец с номером месяца"
   ]
  },
  {
   "cell_type": "markdown",
   "id": "212593c7",
   "metadata": {},
   "source": [
    "#### Шаг 3. Исследовательский анализ данных"
   ]
  },
  {
   "cell_type": "markdown",
   "id": "5d04e56f",
   "metadata": {},
   "source": [
    "Опишите и визуализируйте общую информацию о пользователях и поездках:\n",
    "3.1 частота встречаемости городов;\n",
    "3.2 соотношение пользователей с подпиской и без подписки;\n",
    "3.3 возраст пользователей;\n",
    "3.4 расстояние, которое пользователь преодолел за одну поездку;\n",
    "3.5 продолжительность поездок."
   ]
  },
  {
   "cell_type": "markdown",
   "id": "0c9c7746",
   "metadata": {},
   "source": [
    "3.1. Частота встречаемости городов"
   ]
  },
  {
   "cell_type": "code",
   "execution_count": 26,
   "id": "dae67dce",
   "metadata": {},
   "outputs": [
    {
     "data": {
      "image/png": "[encoded data removed]",
      "text/plain": [
       "<Figure size 1080x288 with 1 Axes>"
      ]
     },
     "metadata": {
      "needs_background": "light"
     },
     "output_type": "display_data"
    }
   ],
   "source": [
    "data_users['city'].value_counts().to_frame().plot(kind = 'barh', figsize = (15,4));"
   ]
  },
  {
   "cell_type": "code",
   "execution_count": 27,
   "id": "67acdbbc",
   "metadata": {},
   "outputs": [
    {
     "data": {
      "text/plain": [
       "Пятигорск         219\n",
       "Екатеринбург      204\n",
       "Ростов-на-Дону    198\n",
       "Краснодар         193\n",
       "Сочи              189\n",
       "Омск              183\n",
       "Тюмень            180\n",
       "Москва            168\n",
       "Name: city, dtype: int64"
      ]
     },
     "execution_count": 27,
     "metadata": {},
     "output_type": "execute_result"
    },
    {
     "data": {
      "image/png": "[encoded data removed]",
      "text/plain": [
       "<Figure size 432x288 with 1 Axes>"
      ]
     },
     "metadata": {
      "needs_background": "light"
     },
     "output_type": "display_data"
    }
   ],
   "source": [
    "fig = plt.figure()\n",
    "ax = fig.add_subplot()\n",
    "data_users['city'].value_counts().plot(kind='bar');\n",
    "plt.title('Количество пользователей в каждом городе');\n",
    "ax.set_xlabel('Города')\n",
    "ax.set_ylabel('Колличество пользователей')\n",
    "data_users['city'].value_counts()\n"
   ]
  },
  {
   "cell_type": "markdown",
   "id": "a197b0c3",
   "metadata": {},
   "source": [
    "Самые частовстречаемые города - Пятигорск и Екатегинбург(более 200 раз). Наименьшая частота встречи у Москвы (около 170 раз)"
   ]
  },
  {
   "cell_type": "markdown",
   "id": "049b9737",
   "metadata": {},
   "source": [
    "3.2.Cоотношение пользователей с подпиской и без подписки"
   ]
  },
  {
   "cell_type": "code",
   "execution_count": 28,
   "id": "e3a4274c",
   "metadata": {},
   "outputs": [
    {
     "data": {
      "image/png": "[encoded data removed]",
      "text/plain": [
       "<Figure size 360x360 with 1 Axes>"
      ]
     },
     "metadata": {},
     "output_type": "display_data"
    }
   ],
   "source": [
    "cont = data_users.groupby((['subscription_type'])).count()\n",
    "cont['user_id'].plot(kind='pie', figsize=(5,5),\n",
    "                  autopct='%1.1f%%',\n",
    "                  shadow=True);"
   ]
  },
  {
   "cell_type": "markdown",
   "id": "bff74779",
   "metadata": {},
   "source": [
    "Соотношениее пользователей:\n",
    "free 54%\n",
    "ultra 46%\n",
    "Распределение примерно одинаковое, однако пользователей без подписки (free) чуть больше"
   ]
  },
  {
   "cell_type": "markdown",
   "id": "23255f5b",
   "metadata": {},
   "source": [
    "3.3. Возраст пользователей"
   ]
  },
  {
   "cell_type": "code",
   "execution_count": 29,
   "id": "6895bd7d",
   "metadata": {},
   "outputs": [
    {
     "data": {
      "image/png": "[encoded data removed]",
      "text/plain": [
       "<Figure size 432x288 with 1 Axes>"
      ]
     },
     "metadata": {
      "needs_background": "light"
     },
     "output_type": "display_data"
    }
   ],
   "source": [
    "age = data_users.groupby('age').count()\n",
    "age['user_id'].plot(kind = 'bar');\n",
    "plt.title('диаграмма возраста пользователей ')\n",
    "plt.xlabel('возраст')\n",
    "plt.ylabel('кол-во пользователей');"
   ]
  },
  {
   "cell_type": "code",
   "execution_count": 30,
   "id": "8ed26c73",
   "metadata": {},
   "outputs": [
    {
     "data": {
      "text/plain": [
       "count    1534.000000\n",
       "mean       24.903520\n",
       "std         4.572367\n",
       "min        12.000000\n",
       "25%        22.000000\n",
       "50%        25.000000\n",
       "75%        28.000000\n",
       "max        43.000000\n",
       "Name: age, dtype: float64"
      ]
     },
     "execution_count": 30,
     "metadata": {},
     "output_type": "execute_result"
    }
   ],
   "source": [
    "data_users['age'].describe()"
   ]
  },
  {
   "cell_type": "markdown",
   "id": "6e5d2239",
   "metadata": {},
   "source": [
    "Большая часть пользователей находится в возрастном промежутке от 22 до 28. Среднее значение составляет 25 лет. Распределение имеет тип Нормального распределения"
   ]
  },
  {
   "cell_type": "markdown",
   "id": "adc7a033",
   "metadata": {},
   "source": [
    "3.4 расстояние, которое пользователь преодолел за одну поездку;"
   ]
  },
  {
   "cell_type": "code",
   "execution_count": 31,
   "id": "034b0fb7",
   "metadata": {},
   "outputs": [
    {
     "data": {
      "image/png": "[encoded data removed]",
      "text/plain": [
       "<Figure size 1440x576 with 1 Axes>"
      ]
     },
     "metadata": {
      "needs_background": "light"
     },
     "output_type": "display_data"
    }
   ],
   "source": [
    "dis = data_rides.pivot_table(index = 'user_id', values = 'distance', aggfunc= 'median')\n",
    "dis.hist(bins = 50, figsize = (20, 8))\n",
    "plt.title('расстояние, которое пользователь преодолел за одну поездку (в метрах)')\n",
    "plt.xlabel('расстояние (в метрах)')\n",
    "plt.ylabel('кол-во пользователей');"
   ]
  },
  {
   "cell_type": "code",
   "execution_count": 32,
   "id": "ea3e16e6",
   "metadata": {},
   "outputs": [
    {
     "data": {
      "text/plain": [
       "count    1534.000000\n",
       "mean     3134.108236\n",
       "std       346.362860\n",
       "min      1234.763317\n",
       "25%      2916.315439\n",
       "50%      3131.071202\n",
       "75%      3337.730942\n",
       "max      4395.430303\n",
       "Name: distance, dtype: float64"
      ]
     },
     "execution_count": 32,
     "metadata": {},
     "output_type": "execute_result"
    }
   ],
   "source": [
    "dis['distance'].describe()"
   ]
  },
  {
   "cell_type": "markdown",
   "id": "c4fe23c2",
   "metadata": {},
   "source": [
    "Сгруппировал поездки каждого пользователя и привел их к медианному значению, что бы избежать выбросы. \n",
    "Среднее расстояние, которое пользователи преодолели за одну поездку - в промежутке от 2,9км и 3,3км"
   ]
  },
  {
   "cell_type": "code",
   "execution_count": 33,
   "id": "f80557c5",
   "metadata": {},
   "outputs": [
    {
     "data": {
      "text/plain": [
       "count    18068.000000\n",
       "mean      3070.659976\n",
       "std       1116.831209\n",
       "min          0.855683\n",
       "25%       2543.226360\n",
       "50%       3133.609994\n",
       "75%       3776.222735\n",
       "max       7211.007745\n",
       "Name: distance, dtype: float64"
      ]
     },
     "execution_count": 33,
     "metadata": {},
     "output_type": "execute_result"
    },
    {
     "data": {
      "image/png": "[encoded data removed]",
      "text/plain": [
       "<Figure size 720x360 with 1 Axes>"
      ]
     },
     "metadata": {
      "needs_background": "light"
     },
     "output_type": "display_data"
    }
   ],
   "source": [
    "data_rides['distance'].hist(bins=100, figsize = (10,5))\n",
    "plt.title('Расстояние поездок у пользователей');\n",
    "plt.xlabel('Расстояние, м.');\n",
    "plt.ylabel('кол-во пользователей');\n",
    "data_rides['distance'].describe()"
   ]
  },
  {
   "cell_type": "markdown",
   "id": "0e650970",
   "metadata": {},
   "source": [
    "Сгруппировал поездки каждого пользователя и привел их к медианному значению, что бы избежать выбросы. \n",
    "Среднее расстояние, которое пользователи преодолели за одну поездку - в промежутке от 2,9км и 3,3км"
   ]
  },
  {
   "cell_type": "markdown",
   "id": "8d2fd5d0",
   "metadata": {},
   "source": [
    "3.5 продолжительность поездок"
   ]
  },
  {
   "cell_type": "code",
   "execution_count": 34,
   "id": "d64de2fe",
   "metadata": {},
   "outputs": [
    {
     "data": {
      "image/png": "[encoded data removed]",
      "text/plain": [
       "<Figure size 1440x576 with 1 Axes>"
      ]
     },
     "metadata": {
      "needs_background": "light"
     },
     "output_type": "display_data"
    }
   ],
   "source": [
    "time = data_rides.pivot_table(index = 'user_id', values = 'duration', aggfunc= 'median')\n",
    "time.hist(bins = 50, figsize = (20, 8))\n",
    "plt.title('продолжительность поездок')\n",
    "plt.xlabel('продолжительность поездки (в минутах)')\n",
    "plt.ylabel('количество пользователей');"
   ]
  },
  {
   "cell_type": "code",
   "execution_count": 35,
   "id": "b174a236",
   "metadata": {},
   "outputs": [
    {
     "data": {
      "text/plain": [
       "count    1534.000000\n",
       "mean       17.727225\n",
       "std         2.322542\n",
       "min        10.711378\n",
       "25%        16.189955\n",
       "50%        17.743728\n",
       "75%        19.208337\n",
       "max        29.983174\n",
       "Name: duration, dtype: float64"
      ]
     },
     "execution_count": 35,
     "metadata": {},
     "output_type": "execute_result"
    }
   ],
   "source": [
    "time['duration'].describe()"
   ]
  },
  {
   "cell_type": "markdown",
   "id": "14b529b8",
   "metadata": {},
   "source": [
    "Среднее время поездок пользователей лежит в промежутке между 16 и 19 минутами"
   ]
  },
  {
   "cell_type": "code",
   "execution_count": 36,
   "id": "cb8f73ae",
   "metadata": {},
   "outputs": [
    {
     "data": {
      "text/plain": [
       "count    18068.000000\n",
       "mean      3070.659976\n",
       "std       1116.831209\n",
       "min          0.855683\n",
       "25%       2543.226360\n",
       "50%       3133.609994\n",
       "75%       3776.222735\n",
       "max       7211.007745\n",
       "Name: distance, dtype: float64"
      ]
     },
     "execution_count": 36,
     "metadata": {},
     "output_type": "execute_result"
    },
    {
     "data": {
      "image/png": "[encoded data removed]",
      "text/plain": [
       "<Figure size 720x360 with 1 Axes>"
      ]
     },
     "metadata": {
      "needs_background": "light"
     },
     "output_type": "display_data"
    }
   ],
   "source": [
    "data_rides['duration'].hist(bins=100, figsize = (10,5))\n",
    "plt.title('продолжительность поездок')\n",
    "plt.xlabel('продолжительность поездки (в минутах)')\n",
    "plt.ylabel('количество пользователей');\n",
    "data_rides['distance'].describe()"
   ]
  },
  {
   "cell_type": "markdown",
   "id": "1fc700eb",
   "metadata": {},
   "source": [
    "Среднее время поездок пользователей лежит в промежутке между 16 и 20 минутами"
   ]
  },
  {
   "cell_type": "markdown",
   "id": "c93de75d",
   "metadata": {},
   "source": [
    "Вывод\n",
    "\n",
    "\n",
    "Лидером по количеству пользователей является Пятигорск - 219 пользователей. Меньше всего пользователей в Москве - 168. \n",
    "\n",
    "Пользователей, использующих бесплатную подписку больше - 835 человек, что является ~54% от общего числа пользователей. На платной подписке сидит 699 пользователей, что соответственно является ~46%.\n",
    "\n",
    "Самыми младшими являются пользователи 12, 13 лет.\n",
    "Самыми старшими - 43, 39.\n",
    "В целом, пользователи приложения укладываются в промежуток от 20 до 30 лет. \n",
    "Распределение по возрастам можно отнести к нормальному\n",
    "\n",
    "Самая короткая дистанция - 0.86 км\n",
    "Самая длинная - 7.2 км\n",
    "В основном пользователи проезжают от 2.5 км до 4 км.\n",
    "\n",
    "Самые короткие поездки - по пол минуты.\n",
    "Самая длинная поездка заняла 40 минут.\n",
    "В основном же длительность поездки состовляет 13 - 22 минут."
   ]
  },
  {
   "cell_type": "markdown",
   "id": "4ef51331",
   "metadata": {},
   "source": [
    "#### Шаг 4. Объединение данных"
   ]
  },
  {
   "cell_type": "markdown",
   "id": "90d2325d",
   "metadata": {},
   "source": [
    "4.1 Объедините данные о пользователях, поездках и подписках в один датафрейм. Для этого воспользуйтесь методом merge().\n",
    "4.2 Создайте ещё два датафрейма из датафрейма, созданного на этапе 4.1:\n",
    "c данными о пользователях без подписки;\n",
    "с данными о пользователях с подпиской.\n",
    "4.3 Визуализируйте информацию о расстоянии и времени поездок для пользователей обеих категорий."
   ]
  },
  {
   "cell_type": "markdown",
   "id": "675c0a62",
   "metadata": {},
   "source": [
    "4.1 Объедините данные о пользователях, поездках и подписках в один датафрейм. Для этого воспользуйтесь методом merge()."
   ]
  },
  {
   "cell_type": "code",
   "execution_count": 37,
   "id": "25a92ede",
   "metadata": {},
   "outputs": [
    {
     "data": {
      "text/html": [
       "<div>\n",
       "<style scoped>\n",
       "    .dataframe tbody tr th:only-of-type {\n",
       "        vertical-align: middle;\n",
       "    }\n",
       "\n",
       "    .dataframe tbody tr th {\n",
       "        vertical-align: top;\n",
       "    }\n",
       "\n",
       "    .dataframe thead th {\n",
       "        text-align: right;\n",
       "    }\n",
       "</style>\n",
       "<table border=\"1\" class=\"dataframe\">\n",
       "  <thead>\n",
       "    <tr style=\"text-align: right;\">\n",
       "      <th></th>\n",
       "      <th>user_id</th>\n",
       "      <th>name</th>\n",
       "      <th>age</th>\n",
       "      <th>city</th>\n",
       "      <th>subscription_type</th>\n",
       "      <th>distance</th>\n",
       "      <th>duration</th>\n",
       "      <th>date</th>\n",
       "      <th>month</th>\n",
       "      <th>minute_price</th>\n",
       "      <th>start_ride_price</th>\n",
       "      <th>subscription_fee</th>\n",
       "    </tr>\n",
       "  </thead>\n",
       "  <tbody>\n",
       "    <tr>\n",
       "      <th>0</th>\n",
       "      <td>1</td>\n",
       "      <td>Кира</td>\n",
       "      <td>22</td>\n",
       "      <td>Тюмень</td>\n",
       "      <td>ultra</td>\n",
       "      <td>4409.919140</td>\n",
       "      <td>25.599769</td>\n",
       "      <td>2021-01-01</td>\n",
       "      <td>1</td>\n",
       "      <td>6</td>\n",
       "      <td>0</td>\n",
       "      <td>199</td>\n",
       "    </tr>\n",
       "    <tr>\n",
       "      <th>1</th>\n",
       "      <td>1</td>\n",
       "      <td>Кира</td>\n",
       "      <td>22</td>\n",
       "      <td>Тюмень</td>\n",
       "      <td>ultra</td>\n",
       "      <td>2617.592153</td>\n",
       "      <td>15.816871</td>\n",
       "      <td>2021-01-18</td>\n",
       "      <td>1</td>\n",
       "      <td>6</td>\n",
       "      <td>0</td>\n",
       "      <td>199</td>\n",
       "    </tr>\n",
       "    <tr>\n",
       "      <th>2</th>\n",
       "      <td>1</td>\n",
       "      <td>Кира</td>\n",
       "      <td>22</td>\n",
       "      <td>Тюмень</td>\n",
       "      <td>ultra</td>\n",
       "      <td>754.159807</td>\n",
       "      <td>6.232113</td>\n",
       "      <td>2021-04-20</td>\n",
       "      <td>4</td>\n",
       "      <td>6</td>\n",
       "      <td>0</td>\n",
       "      <td>199</td>\n",
       "    </tr>\n",
       "    <tr>\n",
       "      <th>3</th>\n",
       "      <td>1</td>\n",
       "      <td>Кира</td>\n",
       "      <td>22</td>\n",
       "      <td>Тюмень</td>\n",
       "      <td>ultra</td>\n",
       "      <td>2694.783254</td>\n",
       "      <td>18.511000</td>\n",
       "      <td>2021-08-11</td>\n",
       "      <td>8</td>\n",
       "      <td>6</td>\n",
       "      <td>0</td>\n",
       "      <td>199</td>\n",
       "    </tr>\n",
       "    <tr>\n",
       "      <th>4</th>\n",
       "      <td>1</td>\n",
       "      <td>Кира</td>\n",
       "      <td>22</td>\n",
       "      <td>Тюмень</td>\n",
       "      <td>ultra</td>\n",
       "      <td>4028.687306</td>\n",
       "      <td>26.265803</td>\n",
       "      <td>2021-08-28</td>\n",
       "      <td>8</td>\n",
       "      <td>6</td>\n",
       "      <td>0</td>\n",
       "      <td>199</td>\n",
       "    </tr>\n",
       "  </tbody>\n",
       "</table>\n",
       "</div>"
      ],
      "text/plain": [
       "   user_id  name  age    city subscription_type     distance   duration  \\\n",
       "0        1  Кира   22  Тюмень             ultra  4409.919140  25.599769   \n",
       "1        1  Кира   22  Тюмень             ultra  2617.592153  15.816871   \n",
       "2        1  Кира   22  Тюмень             ultra   754.159807   6.232113   \n",
       "3        1  Кира   22  Тюмень             ultra  2694.783254  18.511000   \n",
       "4        1  Кира   22  Тюмень             ultra  4028.687306  26.265803   \n",
       "\n",
       "        date  month  minute_price  start_ride_price  subscription_fee  \n",
       "0 2021-01-01      1             6                 0               199  \n",
       "1 2021-01-18      1             6                 0               199  \n",
       "2 2021-04-20      4             6                 0               199  \n",
       "3 2021-08-11      8             6                 0               199  \n",
       "4 2021-08-28      8             6                 0               199  "
      ]
     },
     "execution_count": 37,
     "metadata": {},
     "output_type": "execute_result"
    }
   ],
   "source": [
    "united_data = data_users.merge(data_rides, on='user_id', how='left')\n",
    "united_data = united_data.merge(data_subscription, on='subscription_type', how='left')\n",
    "united_data.head()"
   ]
  },
  {
   "cell_type": "code",
   "execution_count": 38,
   "id": "c55477cd",
   "metadata": {},
   "outputs": [
    {
     "name": "stdout",
     "output_type": "stream",
     "text": [
      "<class 'pandas.core.frame.DataFrame'>\n",
      "Int64Index: 18068 entries, 0 to 18067\n",
      "Data columns (total 12 columns):\n",
      " #   Column             Non-Null Count  Dtype         \n",
      "---  ------             --------------  -----         \n",
      " 0   user_id            18068 non-null  int64         \n",
      " 1   name               18068 non-null  object        \n",
      " 2   age                18068 non-null  int64         \n",
      " 3   city               18068 non-null  object        \n",
      " 4   subscription_type  18068 non-null  object        \n",
      " 5   distance           18068 non-null  float64       \n",
      " 6   duration           18068 non-null  float64       \n",
      " 7   date               18068 non-null  datetime64[ns]\n",
      " 8   month              18068 non-null  int64         \n",
      " 9   minute_price       18068 non-null  int64         \n",
      " 10  start_ride_price   18068 non-null  int64         \n",
      " 11  subscription_fee   18068 non-null  int64         \n",
      "dtypes: datetime64[ns](1), float64(2), int64(6), object(3)\n",
      "memory usage: 1.8+ MB\n"
     ]
    }
   ],
   "source": [
    "united_data.info()"
   ]
  },
  {
   "cell_type": "markdown",
   "id": "290776d8",
   "metadata": {},
   "source": [
    "4.2 Создайте ещё два датафрейма из датафрейма, созданного на этапе 4.1:\n",
    "c данными о пользователях без подписки;\n",
    "с данными о пользователях с подпиской."
   ]
  },
  {
   "cell_type": "code",
   "execution_count": 39,
   "id": "4816cb20",
   "metadata": {},
   "outputs": [],
   "source": [
    "data_free = united_data.loc[united_data['subscription_type'] == 'free']"
   ]
  },
  {
   "cell_type": "code",
   "execution_count": 40,
   "id": "e125517d",
   "metadata": {},
   "outputs": [
    {
     "name": "stdout",
     "output_type": "stream",
     "text": [
      "<class 'pandas.core.frame.DataFrame'>\n",
      "Int64Index: 11568 entries, 6500 to 18067\n",
      "Data columns (total 12 columns):\n",
      " #   Column             Non-Null Count  Dtype         \n",
      "---  ------             --------------  -----         \n",
      " 0   user_id            11568 non-null  int64         \n",
      " 1   name               11568 non-null  object        \n",
      " 2   age                11568 non-null  int64         \n",
      " 3   city               11568 non-null  object        \n",
      " 4   subscription_type  11568 non-null  object        \n",
      " 5   distance           11568 non-null  float64       \n",
      " 6   duration           11568 non-null  float64       \n",
      " 7   date               11568 non-null  datetime64[ns]\n",
      " 8   month              11568 non-null  int64         \n",
      " 9   minute_price       11568 non-null  int64         \n",
      " 10  start_ride_price   11568 non-null  int64         \n",
      " 11  subscription_fee   11568 non-null  int64         \n",
      "dtypes: datetime64[ns](1), float64(2), int64(6), object(3)\n",
      "memory usage: 1.1+ MB\n"
     ]
    }
   ],
   "source": [
    "data_free.info()"
   ]
  },
  {
   "cell_type": "code",
   "execution_count": 41,
   "id": "741ed7a1",
   "metadata": {},
   "outputs": [],
   "source": [
    "data_ultra = united_data.loc[united_data['subscription_type'] == 'ultra']"
   ]
  },
  {
   "cell_type": "code",
   "execution_count": 42,
   "id": "c9e955b2",
   "metadata": {},
   "outputs": [
    {
     "name": "stdout",
     "output_type": "stream",
     "text": [
      "<class 'pandas.core.frame.DataFrame'>\n",
      "Int64Index: 6500 entries, 0 to 6499\n",
      "Data columns (total 12 columns):\n",
      " #   Column             Non-Null Count  Dtype         \n",
      "---  ------             --------------  -----         \n",
      " 0   user_id            6500 non-null   int64         \n",
      " 1   name               6500 non-null   object        \n",
      " 2   age                6500 non-null   int64         \n",
      " 3   city               6500 non-null   object        \n",
      " 4   subscription_type  6500 non-null   object        \n",
      " 5   distance           6500 non-null   float64       \n",
      " 6   duration           6500 non-null   float64       \n",
      " 7   date               6500 non-null   datetime64[ns]\n",
      " 8   month              6500 non-null   int64         \n",
      " 9   minute_price       6500 non-null   int64         \n",
      " 10  start_ride_price   6500 non-null   int64         \n",
      " 11  subscription_fee   6500 non-null   int64         \n",
      "dtypes: datetime64[ns](1), float64(2), int64(6), object(3)\n",
      "memory usage: 660.2+ KB\n"
     ]
    }
   ],
   "source": [
    "data_ultra.info()"
   ]
  },
  {
   "cell_type": "markdown",
   "id": "23311a95",
   "metadata": {},
   "source": [
    "4.3 Визуализируйте информацию о расстоянии и времени поездок для пользователей обеих категорий."
   ]
  },
  {
   "cell_type": "markdown",
   "id": "dc824ecf",
   "metadata": {},
   "source": [
    "Визуализируем информацию о расстоянии"
   ]
  },
  {
   "cell_type": "code",
   "execution_count": 43,
   "id": "ff489c0b",
   "metadata": {
    "scrolled": false
   },
   "outputs": [
    {
     "data": {
      "image/png": "[encoded data removed]",
      "text/plain": [
       "<Figure size 1080x576 with 1 Axes>"
      ]
     },
     "metadata": {
      "needs_background": "light"
     },
     "output_type": "display_data"
    },
    {
     "data": {
      "text/plain": [
       "count    11568.000000\n",
       "mean      3045.495282\n",
       "std       1246.173806\n",
       "min          0.855683\n",
       "25%       2366.562689\n",
       "50%       3114.648465\n",
       "75%       3905.697894\n",
       "max       7211.007745\n",
       "Name: distance, dtype: float64"
      ]
     },
     "metadata": {},
     "output_type": "display_data"
    }
   ],
   "source": [
    "fig, ax = plt.subplots(figsize=(15,8))\n",
    "ax.hist(data_free['distance'], bins=35, label='Без подписки', alpha=0.8)\n",
    "ax.set_title('Расстояние')\n",
    "ax.set_ylabel('Количество пользователей')\n",
    "ax.set_xlabel('Расстояние (в метрах)')\n",
    "plt.legend()\n",
    "plt.show()\n",
    "display(data_free['distance'].describe())"
   ]
  },
  {
   "cell_type": "markdown",
   "id": "e86004ab",
   "metadata": {},
   "source": [
    "Для пользователей без подписки среднее расстояние варьируется от 2.5 до 4х км"
   ]
  },
  {
   "cell_type": "code",
   "execution_count": 44,
   "id": "5db0ae0d",
   "metadata": {},
   "outputs": [
    {
     "data": {
      "image/png": "[encoded data removed]",
      "text/plain": [
       "<Figure size 1080x576 with 1 Axes>"
      ]
     },
     "metadata": {
      "needs_background": "light"
     },
     "output_type": "display_data"
    },
    {
     "data": {
      "text/plain": [
       "count    6500.000000\n",
       "mean     3115.445388\n",
       "std       836.895330\n",
       "min       244.210438\n",
       "25%      2785.444017\n",
       "50%      3148.637229\n",
       "75%      3560.574425\n",
       "max      5699.769662\n",
       "Name: distance, dtype: float64"
      ]
     },
     "metadata": {},
     "output_type": "display_data"
    }
   ],
   "source": [
    "fig, ax = plt.subplots(figsize=(15,8))\n",
    "ax.hist(data_ultra['distance'], bins=35, label='С подпиской', alpha=0.8)\n",
    "ax.set_title('Расстояние')\n",
    "ax.set_ylabel('Количество пользователей')\n",
    "ax.set_xlabel('Расстояние (в метрах)')\n",
    "plt.legend()\n",
    "plt.show()\n",
    "display(data_ultra['distance'].describe())"
   ]
  },
  {
   "cell_type": "markdown",
   "id": "0cc39c13",
   "metadata": {},
   "source": [
    "Для пользователей с подпиской среднее расстояние варьируется от 2.5 до 3.5 км"
   ]
  },
  {
   "cell_type": "markdown",
   "id": "f8893bcf",
   "metadata": {},
   "source": [
    "Визуализируем информацию о времени"
   ]
  },
  {
   "cell_type": "code",
   "execution_count": 45,
   "id": "b702807c",
   "metadata": {},
   "outputs": [
    {
     "data": {
      "image/png": "[encoded data removed]",
      "text/plain": [
       "<Figure size 1080x576 with 1 Axes>"
      ]
     },
     "metadata": {
      "needs_background": "light"
     },
     "output_type": "display_data"
    },
    {
     "data": {
      "text/plain": [
       "count    11568.000000\n",
       "mean        17.390909\n",
       "std          6.326803\n",
       "min          0.500000\n",
       "25%         12.958437\n",
       "50%         17.326890\n",
       "75%         21.594071\n",
       "max         34.948498\n",
       "Name: duration, dtype: float64"
      ]
     },
     "execution_count": 45,
     "metadata": {},
     "output_type": "execute_result"
    }
   ],
   "source": [
    "fig, ax = plt.subplots(figsize=(15,8))\n",
    "ax.hist(data_free['duration'], bins=35, label='Без подписки', alpha=0.8)\n",
    "ax.set_title('Продолжительность')\n",
    "ax.set_ylabel('Количество пользователей')\n",
    "ax.set_xlabel('Длительность (в минутах)')\n",
    "plt.legend()\n",
    "plt.show()\n",
    "data_free['duration'].describe()"
   ]
  },
  {
   "cell_type": "markdown",
   "id": "1da00bf8",
   "metadata": {},
   "source": [
    "Для пользователей без подписки среднее время варьируется от 15 до 20 мин."
   ]
  },
  {
   "cell_type": "code",
   "execution_count": 46,
   "id": "3296bffd",
   "metadata": {},
   "outputs": [
    {
     "data": {
      "image/png": "[encoded data removed]",
      "text/plain": [
       "<Figure size 1080x576 with 1 Axes>"
      ]
     },
     "metadata": {
      "needs_background": "light"
     },
     "output_type": "display_data"
    },
    {
     "data": {
      "text/plain": [
       "count    6500.000000\n",
       "mean       18.541985\n",
       "std         5.572048\n",
       "min         3.760353\n",
       "25%        14.524654\n",
       "50%        18.178153\n",
       "75%        21.884129\n",
       "max        40.823963\n",
       "Name: duration, dtype: float64"
      ]
     },
     "execution_count": 46,
     "metadata": {},
     "output_type": "execute_result"
    }
   ],
   "source": [
    "fig, ax = plt.subplots(figsize=(15,8))\n",
    "ax.hist(data_ultra['duration'], bins=35, label='С подпиской', alpha=0.8)\n",
    "ax.set_title('Продолжительность')\n",
    "ax.set_ylabel('Количество пользователей')\n",
    "ax.set_xlabel('Длительность (в минутах)')\n",
    "plt.legend()\n",
    "plt.show()\n",
    "data_ultra['duration'].describe()"
   ]
  },
  {
   "cell_type": "markdown",
   "id": "ae185177",
   "metadata": {},
   "source": [
    "Для пользователей с подпиской среднее время варьируется от 13 до 20 мин."
   ]
  },
  {
   "cell_type": "markdown",
   "id": "8665c204",
   "metadata": {},
   "source": [
    "Пользователи без подписки в среднем проезжают расстояние от 2.5 до 4 км и арендуют самокаты от 15 до 20 минут.\n",
    "Пользователи с подпиской в среднем проезжают расстояние от 2.5 до 3.5 км и также арендуют самокаты от 13 до 20 минут"
   ]
  },
  {
   "cell_type": "markdown",
   "id": "81c0660b",
   "metadata": {},
   "source": [
    "Вывод\n",
    "\n",
    "Объединили данные о пользователях, поездках и тарифах в один датафрейм - united_data\n",
    "\n",
    "Выделили два датафрейма на основе full_data:\n",
    "\n",
    "data_free- Информация о пользователях с бесплатным тарифом\n",
    "data_ultra - Информация о пользователях с платным тарифом\n",
    "Визуализировали информацию о расстоянии и времени для каждого из тарифов.\n",
    "\n",
    "Для бесплатного тарифа время поездки составляет от 10 до 30 минут, и проезжают от 2 до 5 км\n",
    "\n",
    "Платный тариф. В основном время укладывается в промежуток от 15 до 25 минут. Пик расстояния приходится на 3км.\n",
    "\n",
    "Таким образом, можно сделать вывод, что пользователи с бесплатным тарифом в целом совершают более долгие поездки, а также проезжают большее расстояние, чем пользователи на платном тарифе."
   ]
  },
  {
   "cell_type": "markdown",
   "id": "2572ecb0",
   "metadata": {},
   "source": [
    "Шаг 5. Подсчёт выручки"
   ]
  },
  {
   "cell_type": "markdown",
   "id": "ef64a467",
   "metadata": {},
   "source": [
    "5.1 Создайте датафрейм с агрегированными данными о поездках на основе датафрейма с объединёнными данными из шага 4: найдите суммарное расстояние, количество поездок и суммарное время для каждого пользователя за каждый месяц.\n",
    "5.2 В этот же датафрейм добавьте столбец с помесячной выручкой, которую принёс каждый пользователь. Для этого обратитесь к информации об условиях оплаты для подписчиков и тех, у кого нет подписки. Продолжительность каждой поездки в каждой строке исходного датафрейма для подсчёта стоимости округляется до следующего целого числа: например, значения \n",
    "25.3 25.3, 25.5 25.5 и 26.0 26.0 должны быть преобразованы к 26 26."
   ]
  },
  {
   "cell_type": "markdown",
   "id": "c862a5a5",
   "metadata": {},
   "source": [
    "Продолжительность каждой поездки должна быть округлена с помощью метода «потолок» библиотеки numpy — np.ceil():\n",
    "import numpy as np\n",
    "rides_df['duration'] = np.ceil(rides_df['duration']) \n",
    "Помесячная выручка считается по формуле: (стоимость старта поездки ×  количество поездок)+ стоимость одной минуты поездки ×  общая продолжительность всех поездок в минутах) + стоимость подписки."
   ]
  },
  {
   "cell_type": "markdown",
   "id": "a6336cb8",
   "metadata": {},
   "source": [
    "5.1 Создайте датафрейм с агрегированными данными о поездках на основе датафрейма с объединёнными данными из шага 4: найдите суммарное расстояние, количество поездок и суммарное время для каждого пользователя за каждый месяц."
   ]
  },
  {
   "cell_type": "code",
   "execution_count": 47,
   "id": "e6b892a6",
   "metadata": {},
   "outputs": [],
   "source": [
    "data_rides['duration'] = np.ceil(data_rides['duration']) "
   ]
  },
  {
   "cell_type": "code",
   "execution_count": 48,
   "id": "d71df367",
   "metadata": {},
   "outputs": [
    {
     "data": {
      "text/html": [
       "<div>\n",
       "<style scoped>\n",
       "    .dataframe tbody tr th:only-of-type {\n",
       "        vertical-align: middle;\n",
       "    }\n",
       "\n",
       "    .dataframe tbody tr th {\n",
       "        vertical-align: top;\n",
       "    }\n",
       "\n",
       "    .dataframe thead th {\n",
       "        text-align: right;\n",
       "    }\n",
       "</style>\n",
       "<table border=\"1\" class=\"dataframe\">\n",
       "  <thead>\n",
       "    <tr style=\"text-align: right;\">\n",
       "      <th></th>\n",
       "      <th>user_id</th>\n",
       "      <th>month</th>\n",
       "      <th>distance_sum</th>\n",
       "      <th>duration_sum</th>\n",
       "      <th>duration_count</th>\n",
       "    </tr>\n",
       "  </thead>\n",
       "  <tbody>\n",
       "    <tr>\n",
       "      <th>0</th>\n",
       "      <td>1</td>\n",
       "      <td>1</td>\n",
       "      <td>7027.511294</td>\n",
       "      <td>41</td>\n",
       "      <td>2</td>\n",
       "    </tr>\n",
       "    <tr>\n",
       "      <th>1</th>\n",
       "      <td>1</td>\n",
       "      <td>4</td>\n",
       "      <td>754.159807</td>\n",
       "      <td>6</td>\n",
       "      <td>1</td>\n",
       "    </tr>\n",
       "    <tr>\n",
       "      <th>2</th>\n",
       "      <td>1</td>\n",
       "      <td>8</td>\n",
       "      <td>6723.470560</td>\n",
       "      <td>45</td>\n",
       "      <td>2</td>\n",
       "    </tr>\n",
       "    <tr>\n",
       "      <th>3</th>\n",
       "      <td>1</td>\n",
       "      <td>10</td>\n",
       "      <td>5809.911100</td>\n",
       "      <td>32</td>\n",
       "      <td>2</td>\n",
       "    </tr>\n",
       "    <tr>\n",
       "      <th>4</th>\n",
       "      <td>1</td>\n",
       "      <td>11</td>\n",
       "      <td>7003.499363</td>\n",
       "      <td>53</td>\n",
       "      <td>3</td>\n",
       "    </tr>\n",
       "    <tr>\n",
       "      <th>...</th>\n",
       "      <td>...</td>\n",
       "      <td>...</td>\n",
       "      <td>...</td>\n",
       "      <td>...</td>\n",
       "      <td>...</td>\n",
       "    </tr>\n",
       "    <tr>\n",
       "      <th>11326</th>\n",
       "      <td>1534</td>\n",
       "      <td>6</td>\n",
       "      <td>3409.468534</td>\n",
       "      <td>25</td>\n",
       "      <td>2</td>\n",
       "    </tr>\n",
       "    <tr>\n",
       "      <th>11327</th>\n",
       "      <td>1534</td>\n",
       "      <td>8</td>\n",
       "      <td>7622.453034</td>\n",
       "      <td>47</td>\n",
       "      <td>2</td>\n",
       "    </tr>\n",
       "    <tr>\n",
       "      <th>11328</th>\n",
       "      <td>1534</td>\n",
       "      <td>9</td>\n",
       "      <td>4928.173852</td>\n",
       "      <td>23</td>\n",
       "      <td>1</td>\n",
       "    </tr>\n",
       "    <tr>\n",
       "      <th>11329</th>\n",
       "      <td>1534</td>\n",
       "      <td>11</td>\n",
       "      <td>13350.015305</td>\n",
       "      <td>76</td>\n",
       "      <td>4</td>\n",
       "    </tr>\n",
       "    <tr>\n",
       "      <th>11330</th>\n",
       "      <td>1534</td>\n",
       "      <td>12</td>\n",
       "      <td>2371.711192</td>\n",
       "      <td>16</td>\n",
       "      <td>1</td>\n",
       "    </tr>\n",
       "  </tbody>\n",
       "</table>\n",
       "<p>11331 rows × 5 columns</p>\n",
       "</div>"
      ],
      "text/plain": [
       "       user_id  month  distance_sum  duration_sum  duration_count\n",
       "0            1      1   7027.511294            41               2\n",
       "1            1      4    754.159807             6               1\n",
       "2            1      8   6723.470560            45               2\n",
       "3            1     10   5809.911100            32               2\n",
       "4            1     11   7003.499363            53               3\n",
       "...        ...    ...           ...           ...             ...\n",
       "11326     1534      6   3409.468534            25               2\n",
       "11327     1534      8   7622.453034            47               2\n",
       "11328     1534      9   4928.173852            23               1\n",
       "11329     1534     11  13350.015305            76               4\n",
       "11330     1534     12   2371.711192            16               1\n",
       "\n",
       "[11331 rows x 5 columns]"
      ]
     },
     "execution_count": 48,
     "metadata": {},
     "output_type": "execute_result"
    }
   ],
   "source": [
    "data_agg =  (united_data.groupby(['user_id','month'])\n",
    "             .agg(distance_sum=('distance', 'sum'),\n",
    "                  duration_sum=('duration', 'sum'),\n",
    "                  duration_count=('duration', 'count')) \n",
    "             .reset_index()\n",
    "             )\n",
    "data_agg['duration_sum'] =  data_agg['duration_sum'].round().astype('int')\n",
    "data_agg"
   ]
  },
  {
   "cell_type": "markdown",
   "id": "3fdcf671",
   "metadata": {},
   "source": [
    "Написал в пункте 71"
   ]
  },
  {
   "cell_type": "markdown",
   "id": "732d469d",
   "metadata": {},
   "source": [
    "5.2.В этот же датафрейм добавьте столбец с помесячной выручкой, которую принёс каждый пользователь."
   ]
  },
  {
   "cell_type": "markdown",
   "id": "1423551d",
   "metadata": {},
   "source": [
    "Для решения этой задачи мы создадим несколько вспомогательных датафреймов. В одном мы соберем всю необходимую информация для проведения расчёта и второй, который мы присоеденим к датафрейму полученному раньше"
   ]
  },
  {
   "cell_type": "code",
   "execution_count": 49,
   "id": "b4c43602",
   "metadata": {},
   "outputs": [
    {
     "data": {
      "text/html": [
       "<div>\n",
       "<style scoped>\n",
       "    .dataframe tbody tr th:only-of-type {\n",
       "        vertical-align: middle;\n",
       "    }\n",
       "\n",
       "    .dataframe tbody tr th {\n",
       "        vertical-align: top;\n",
       "    }\n",
       "\n",
       "    .dataframe thead th {\n",
       "        text-align: right;\n",
       "    }\n",
       "</style>\n",
       "<table border=\"1\" class=\"dataframe\">\n",
       "  <thead>\n",
       "    <tr style=\"text-align: right;\">\n",
       "      <th></th>\n",
       "      <th>user_id</th>\n",
       "      <th>subscription_type</th>\n",
       "      <th>minute_price</th>\n",
       "      <th>start_ride_price</th>\n",
       "      <th>subscription_fee</th>\n",
       "      <th>month</th>\n",
       "      <th>distance_sum</th>\n",
       "      <th>duration_sum</th>\n",
       "      <th>duration_count</th>\n",
       "    </tr>\n",
       "  </thead>\n",
       "  <tbody>\n",
       "    <tr>\n",
       "      <th>0</th>\n",
       "      <td>1</td>\n",
       "      <td>ultra</td>\n",
       "      <td>6</td>\n",
       "      <td>0</td>\n",
       "      <td>199</td>\n",
       "      <td>1</td>\n",
       "      <td>7027.511294</td>\n",
       "      <td>41</td>\n",
       "      <td>2</td>\n",
       "    </tr>\n",
       "    <tr>\n",
       "      <th>1</th>\n",
       "      <td>1</td>\n",
       "      <td>ultra</td>\n",
       "      <td>6</td>\n",
       "      <td>0</td>\n",
       "      <td>199</td>\n",
       "      <td>4</td>\n",
       "      <td>754.159807</td>\n",
       "      <td>6</td>\n",
       "      <td>1</td>\n",
       "    </tr>\n",
       "    <tr>\n",
       "      <th>2</th>\n",
       "      <td>1</td>\n",
       "      <td>ultra</td>\n",
       "      <td>6</td>\n",
       "      <td>0</td>\n",
       "      <td>199</td>\n",
       "      <td>8</td>\n",
       "      <td>6723.470560</td>\n",
       "      <td>45</td>\n",
       "      <td>2</td>\n",
       "    </tr>\n",
       "    <tr>\n",
       "      <th>3</th>\n",
       "      <td>1</td>\n",
       "      <td>ultra</td>\n",
       "      <td>6</td>\n",
       "      <td>0</td>\n",
       "      <td>199</td>\n",
       "      <td>10</td>\n",
       "      <td>5809.911100</td>\n",
       "      <td>32</td>\n",
       "      <td>2</td>\n",
       "    </tr>\n",
       "    <tr>\n",
       "      <th>4</th>\n",
       "      <td>1</td>\n",
       "      <td>ultra</td>\n",
       "      <td>6</td>\n",
       "      <td>0</td>\n",
       "      <td>199</td>\n",
       "      <td>11</td>\n",
       "      <td>7003.499363</td>\n",
       "      <td>53</td>\n",
       "      <td>3</td>\n",
       "    </tr>\n",
       "    <tr>\n",
       "      <th>...</th>\n",
       "      <td>...</td>\n",
       "      <td>...</td>\n",
       "      <td>...</td>\n",
       "      <td>...</td>\n",
       "      <td>...</td>\n",
       "      <td>...</td>\n",
       "      <td>...</td>\n",
       "      <td>...</td>\n",
       "      <td>...</td>\n",
       "    </tr>\n",
       "    <tr>\n",
       "      <th>11326</th>\n",
       "      <td>1534</td>\n",
       "      <td>free</td>\n",
       "      <td>8</td>\n",
       "      <td>50</td>\n",
       "      <td>0</td>\n",
       "      <td>6</td>\n",
       "      <td>3409.468534</td>\n",
       "      <td>25</td>\n",
       "      <td>2</td>\n",
       "    </tr>\n",
       "    <tr>\n",
       "      <th>11327</th>\n",
       "      <td>1534</td>\n",
       "      <td>free</td>\n",
       "      <td>8</td>\n",
       "      <td>50</td>\n",
       "      <td>0</td>\n",
       "      <td>8</td>\n",
       "      <td>7622.453034</td>\n",
       "      <td>47</td>\n",
       "      <td>2</td>\n",
       "    </tr>\n",
       "    <tr>\n",
       "      <th>11328</th>\n",
       "      <td>1534</td>\n",
       "      <td>free</td>\n",
       "      <td>8</td>\n",
       "      <td>50</td>\n",
       "      <td>0</td>\n",
       "      <td>9</td>\n",
       "      <td>4928.173852</td>\n",
       "      <td>23</td>\n",
       "      <td>1</td>\n",
       "    </tr>\n",
       "    <tr>\n",
       "      <th>11329</th>\n",
       "      <td>1534</td>\n",
       "      <td>free</td>\n",
       "      <td>8</td>\n",
       "      <td>50</td>\n",
       "      <td>0</td>\n",
       "      <td>11</td>\n",
       "      <td>13350.015305</td>\n",
       "      <td>76</td>\n",
       "      <td>4</td>\n",
       "    </tr>\n",
       "    <tr>\n",
       "      <th>11330</th>\n",
       "      <td>1534</td>\n",
       "      <td>free</td>\n",
       "      <td>8</td>\n",
       "      <td>50</td>\n",
       "      <td>0</td>\n",
       "      <td>12</td>\n",
       "      <td>2371.711192</td>\n",
       "      <td>16</td>\n",
       "      <td>1</td>\n",
       "    </tr>\n",
       "  </tbody>\n",
       "</table>\n",
       "<p>11331 rows × 9 columns</p>\n",
       "</div>"
      ],
      "text/plain": [
       "       user_id subscription_type  minute_price  start_ride_price  \\\n",
       "0            1             ultra             6                 0   \n",
       "1            1             ultra             6                 0   \n",
       "2            1             ultra             6                 0   \n",
       "3            1             ultra             6                 0   \n",
       "4            1             ultra             6                 0   \n",
       "...        ...               ...           ...               ...   \n",
       "11326     1534              free             8                50   \n",
       "11327     1534              free             8                50   \n",
       "11328     1534              free             8                50   \n",
       "11329     1534              free             8                50   \n",
       "11330     1534              free             8                50   \n",
       "\n",
       "       subscription_fee  month  distance_sum  duration_sum  duration_count  \n",
       "0                   199      1   7027.511294            41               2  \n",
       "1                   199      4    754.159807             6               1  \n",
       "2                   199      8   6723.470560            45               2  \n",
       "3                   199     10   5809.911100            32               2  \n",
       "4                   199     11   7003.499363            53               3  \n",
       "...                 ...    ...           ...           ...             ...  \n",
       "11326                 0      6   3409.468534            25               2  \n",
       "11327                 0      8   7622.453034            47               2  \n",
       "11328                 0      9   4928.173852            23               1  \n",
       "11329                 0     11  13350.015305            76               4  \n",
       "11330                 0     12   2371.711192            16               1  \n",
       "\n",
       "[11331 rows x 9 columns]"
      ]
     },
     "execution_count": 49,
     "metadata": {},
     "output_type": "execute_result"
    }
   ],
   "source": [
    "datalist = united_data[['user_id','subscription_type', 'minute_price', 'start_ride_price','subscription_fee', 'month']]\n",
    "\n",
    "dataset = datalist.merge(data_agg, on = ['user_id', 'month'], how = 'left')\n",
    "dataset = dataset.drop_duplicates().reset_index(drop = True)\n",
    "dataset"
   ]
  },
  {
   "cell_type": "code",
   "execution_count": 50,
   "id": "1c1d4cbf",
   "metadata": {},
   "outputs": [],
   "source": [
    "dataset['prise_sum'] = ((dataset['start_ride_price'] * dataset['duration_count'])\n",
    "                        + (dataset['minute_price'] * dataset['duration_sum'])\n",
    "                        + dataset['subscription_fee']\n",
    "                       )"
   ]
  },
  {
   "cell_type": "code",
   "execution_count": 51,
   "id": "c779adc7",
   "metadata": {},
   "outputs": [],
   "source": [
    "dataset1 = dataset[['user_id', 'month','subscription_type', 'prise_sum']]"
   ]
  },
  {
   "cell_type": "code",
   "execution_count": 52,
   "id": "b3f41ce9",
   "metadata": {},
   "outputs": [
    {
     "data": {
      "text/html": [
       "<div>\n",
       "<style scoped>\n",
       "    .dataframe tbody tr th:only-of-type {\n",
       "        vertical-align: middle;\n",
       "    }\n",
       "\n",
       "    .dataframe tbody tr th {\n",
       "        vertical-align: top;\n",
       "    }\n",
       "\n",
       "    .dataframe thead th {\n",
       "        text-align: right;\n",
       "    }\n",
       "</style>\n",
       "<table border=\"1\" class=\"dataframe\">\n",
       "  <thead>\n",
       "    <tr style=\"text-align: right;\">\n",
       "      <th></th>\n",
       "      <th>user_id</th>\n",
       "      <th>month</th>\n",
       "      <th>distance_sum</th>\n",
       "      <th>duration_sum</th>\n",
       "      <th>duration_count</th>\n",
       "      <th>subscription_type</th>\n",
       "      <th>prise_sum</th>\n",
       "    </tr>\n",
       "  </thead>\n",
       "  <tbody>\n",
       "    <tr>\n",
       "      <th>0</th>\n",
       "      <td>1</td>\n",
       "      <td>1</td>\n",
       "      <td>7027.511294</td>\n",
       "      <td>41</td>\n",
       "      <td>2</td>\n",
       "      <td>ultra</td>\n",
       "      <td>445</td>\n",
       "    </tr>\n",
       "    <tr>\n",
       "      <th>1</th>\n",
       "      <td>1</td>\n",
       "      <td>4</td>\n",
       "      <td>754.159807</td>\n",
       "      <td>6</td>\n",
       "      <td>1</td>\n",
       "      <td>ultra</td>\n",
       "      <td>235</td>\n",
       "    </tr>\n",
       "    <tr>\n",
       "      <th>2</th>\n",
       "      <td>1</td>\n",
       "      <td>8</td>\n",
       "      <td>6723.470560</td>\n",
       "      <td>45</td>\n",
       "      <td>2</td>\n",
       "      <td>ultra</td>\n",
       "      <td>469</td>\n",
       "    </tr>\n",
       "    <tr>\n",
       "      <th>3</th>\n",
       "      <td>1</td>\n",
       "      <td>10</td>\n",
       "      <td>5809.911100</td>\n",
       "      <td>32</td>\n",
       "      <td>2</td>\n",
       "      <td>ultra</td>\n",
       "      <td>391</td>\n",
       "    </tr>\n",
       "    <tr>\n",
       "      <th>4</th>\n",
       "      <td>1</td>\n",
       "      <td>11</td>\n",
       "      <td>7003.499363</td>\n",
       "      <td>53</td>\n",
       "      <td>3</td>\n",
       "      <td>ultra</td>\n",
       "      <td>517</td>\n",
       "    </tr>\n",
       "  </tbody>\n",
       "</table>\n",
       "</div>"
      ],
      "text/plain": [
       "   user_id  month  distance_sum  duration_sum  duration_count  \\\n",
       "0        1      1   7027.511294            41               2   \n",
       "1        1      4    754.159807             6               1   \n",
       "2        1      8   6723.470560            45               2   \n",
       "3        1     10   5809.911100            32               2   \n",
       "4        1     11   7003.499363            53               3   \n",
       "\n",
       "  subscription_type  prise_sum  \n",
       "0             ultra        445  \n",
       "1             ultra        235  \n",
       "2             ultra        469  \n",
       "3             ultra        391  \n",
       "4             ultra        517  "
      ]
     },
     "execution_count": 52,
     "metadata": {},
     "output_type": "execute_result"
    }
   ],
   "source": [
    "data_agg_sum = data_agg.merge(dataset1, on = ['user_id', 'month'], how = 'left')\n",
    "data_agg_sum.head()"
   ]
  },
  {
   "cell_type": "markdown",
   "id": "9bd64b46",
   "metadata": {},
   "source": [
    "Вывод\n",
    "\n",
    "Создали новый датафрейм с агрегированными данными.\n",
    "\n",
    "Нашли суммарное расстояние, количество поездок и суммарное время для каждого пользователя за каждый месяц. Также добавили столбец с помесячной выручкой, которую принес каждый пользователь."
   ]
  },
  {
   "cell_type": "markdown",
   "id": "41545ac0",
   "metadata": {},
   "source": [
    "#### Шаг 6. Проверка гипотез"
   ]
  },
  {
   "cell_type": "markdown",
   "id": "e8167cae",
   "metadata": {},
   "source": [
    "Продакт-менеджеры сервиса хотят увеличить количество пользователей с подпиской. Для этого они будут проводить различные акции, но сначала нужно выяснить несколько важных моментов.\n",
    "6.1 Важно понять, тратят ли пользователи с подпиской больше времени на поездки? Если да, то пользователи с подпиской могут быть «выгоднее» для компании. Проверьте гипотезу. Используйте исходные данные о продолжительности каждой сессии — отдельно для подписчиков и тех, у кого нет подписки.\n",
    "6.2 Расстояние одной поездки в 3130 метров — оптимальное с точки зрения износа самоката. Можно ли сказать, что расстояние, которое проезжают пользователи с подпиской за одну поездку, не превышает3130 метров? Проверьте гипотезу и сделайте выводы.\n",
    "6.3. Проверьте гипотезу о том, будет ли помесячная выручка от пользователей с подпиской по месяцам выше, чем выручка от пользователей без подписки. Сделайте вывод.\n",
    "6.4. Представьте такую ситуацию: техническая команда сервиса обновила сервера, с которыми взаимодействует мобильное приложение. Она надеется, что из-за этого количество обращений в техподдержку значимо снизилось. Некоторый файл содержит для каждого пользователя данные о количестве обращений до обновления и после него. Какой тест вам понадобился бы для проверки этой гипотезы?"
   ]
  },
  {
   "cell_type": "markdown",
   "id": "90799060",
   "metadata": {},
   "source": [
    "6.1 Важно понять, тратят ли пользователи с подпиской больше времени на поездки? Если да, то пользователи с подпиской могут быть «выгоднее» для компании. Проверьте гипотезу. Используйте исходные данные о продолжительности каждой сессии — отдельно для подписчиков и тех, у кого нет подписки."
   ]
  },
  {
   "cell_type": "markdown",
   "id": "2a3390cc",
   "metadata": {},
   "source": [
    "H_0: Длительность поездки у пользователей с подпиской и без неё, равна \n",
    "H_a: Длительность поездки у пользователей с подпиской больше чем у пользователей без подписки\n",
    "alpha = 0.05"
   ]
  },
  {
   "cell_type": "code",
   "execution_count": 53,
   "id": "8e562202",
   "metadata": {},
   "outputs": [
    {
     "name": "stdout",
     "output_type": "stream",
     "text": [
      "Отвергаем нулевую гипотезу\n",
      "Значение p-value: 1.2804098316645618e-34\n",
      "Средняя длительность: 1.1510758641418413\n"
     ]
    }
   ],
   "source": [
    "results = st.ttest_ind(data_free['duration'], data_ultra['duration'], alternative='less')\n",
    "p_value = results.pvalue\n",
    "duration_diff = data_ultra['duration'].mean() - data_free['duration'].mean()\n",
    "if results.pvalue < 0.05:\n",
    "    print(\"Отвергаем нулевую гипотезу\")\n",
    "else:\n",
    "    print(\"Не получилось отвергнуть нулевую гипотезу\")\n",
    "print(\"Значение p-value:\", p_value)\n",
    "print(\"Средняя длительность:\", duration_diff)"
   ]
  },
  {
   "cell_type": "markdown",
   "id": "17cd96be",
   "metadata": {},
   "source": [
    "Вывод: Проверка гипотезы показала, что длительность поездки у пользователей с подпиской больше чем у пользователей без подписки"
   ]
  },
  {
   "cell_type": "markdown",
   "id": "ff159cc0",
   "metadata": {},
   "source": [
    "6.2.Можно ли сказать, что расстояние, которое проезжают пользователи с подпиской за одну поездку, не превышает 3130 метро"
   ]
  },
  {
   "cell_type": "markdown",
   "id": "17735441",
   "metadata": {},
   "source": [
    "H_0: Среднее расстояние пользователей с подпиской равно 3130 метров\n",
    "H_a: Среднее расстояние пользователей с подпиской не превышает 3130 метров\n",
    "alpha = 0.05"
   ]
  },
  {
   "cell_type": "code",
   "execution_count": 54,
   "id": "62bac89c",
   "metadata": {},
   "outputs": [
    {
     "name": "stdout",
     "output_type": "stream",
     "text": [
      "Не получилось отвергнуть нулевую гипотезу\n",
      "Значение p-value: 0.08046311521502146\n",
      "Среднее расстояние: 3115.4453880370247\n"
     ]
    }
   ],
   "source": [
    "results = st.ttest_1samp(data_ultra['distance'], 3130, alternative='less')\n",
    "p_value = results.pvalue\n",
    "mean_distance = data_ultra['distance'].mean()\n",
    "if results.pvalue < 0.05:\n",
    "    print(\"Отвергаем нулевую гипотезу\")\n",
    "else:\n",
    "    print(\"Не получилось отвергнуть нулевую гипотезу\")\n",
    "print(\"Значение p-value:\", p_value)\n",
    "print(\"Среднее расстояние:\", mean_distance)"
   ]
  },
  {
   "cell_type": "markdown",
   "id": "816811e6",
   "metadata": {},
   "source": [
    "Вывод: Проверка гипотезы показала, что cреднее расстояние пользователей с подпиской превышает или равно 3130 метров"
   ]
  },
  {
   "cell_type": "markdown",
   "id": "3b13b763",
   "metadata": {},
   "source": [
    "H_0: Среднее расстояние пользователей с подпиской равно 3130 метров\n",
    "H_a: Подписчики в среднем проезжают расстояние больше оптимальног\n",
    "alpha = 0.05"
   ]
  },
  {
   "cell_type": "code",
   "execution_count": 55,
   "id": "9f3e509b",
   "metadata": {},
   "outputs": [
    {
     "name": "stdout",
     "output_type": "stream",
     "text": [
      "p-значение: 0.9195368847849785\n",
      "Не отвергаем нулевую гипотезу\n",
      "В среднем платные пользователи проезжают 3115.45 метров\n"
     ]
    }
   ],
   "source": [
    " \n",
    "optimal_distance = 3130\n",
    " \n",
    "alpha = 0.05\n",
    " \n",
    "results = st.ttest_1samp(\n",
    "    data_ultra['distance'],\n",
    "    optimal_distance,\n",
    "    alternative='greater')\n",
    " \n",
    "print('p-значение:', results.pvalue)\n",
    " \n",
    "if (results.pvalue < alpha):\n",
    "    print('Отвергаем нулевую гипотезу')\n",
    "else:\n",
    "    print('Не отвергаем нулевую гипотезу')\n",
    "\n",
    "print('В среднем платные пользователи проезжают', round(data_ultra['distance'].mean(),2), 'метров')"
   ]
  },
  {
   "cell_type": "markdown",
   "id": "bf50ad9f",
   "metadata": {},
   "source": [
    "6.3.Проверьте гипотезу о том, будет ли помесячная выручка от пользователей с подпиской по месяцам выше, чем выручка от пользователей без подписки. Сделайте вывод."
   ]
  },
  {
   "cell_type": "markdown",
   "id": "2aa33026",
   "metadata": {},
   "source": [
    "H_0 выручка обеих категорий пользователей равна.\n",
    "H_a: выручка от пользователей с подпиской больше, чем выручка от пользователей без подписки\n",
    "alpha = 0.05"
   ]
  },
  {
   "cell_type": "code",
   "execution_count": 56,
   "id": "2a115f3b",
   "metadata": {},
   "outputs": [],
   "source": [
    "data_agg_sum_free = data_agg_sum[data_agg_sum['subscription_type'] == 'free']\n",
    "data_agg_sum_ultra = data_agg_sum[data_agg_sum['subscription_type'] == 'ultra']"
   ]
  },
  {
   "cell_type": "code",
   "execution_count": 57,
   "id": "6c8aa03b",
   "metadata": {},
   "outputs": [
    {
     "name": "stdout",
     "output_type": "stream",
     "text": [
      "p-значение: 2.3546897309064956e-37\n",
      "Отвергаем нулевую гипотезу\n"
     ]
    }
   ],
   "source": [
    "alpha = 0.05\n",
    "\n",
    "results = st.ttest_ind(data_agg_sum_ultra.query('subscription_type == \"ultra\"')['prise_sum'], data_agg_sum_free.query('subscription_type == \"free\"')['prise_sum'], alternative ='greater')\n",
    "print('p-значение:', results.pvalue)\n",
    "\n",
    "if results.pvalue < alpha:\n",
    "    print('Отвергаем нулевую гипотезу')\n",
    "else:\n",
    "    print('Не получилось отвергнуть нулевую гипотезу')"
   ]
  },
  {
   "cell_type": "markdown",
   "id": "c6caa773",
   "metadata": {},
   "source": [
    "Вывод: пользователи с подпиской приносят больше помесячной выручки, чем пользователи без нее"
   ]
  },
  {
   "cell_type": "markdown",
   "id": "039c73c4",
   "metadata": {},
   "source": [
    "6.4. Представьте такую ситуацию: техническая команда сервиса обновила сервера, с которыми взаимодействует мобильное приложение. Она надеется, что из-за этого количество обращений в техподдержку значимо снизилось. Некоторый файл содержит для каждого пользователя данные о количестве обращений до обновления и после него. Какой тест вам понадобился бы для проверки этой гипотезы?"
   ]
  },
  {
   "cell_type": "markdown",
   "id": "8022e45e",
   "metadata": {},
   "source": [
    "Я бы попробовал сделать через  scipy.stats.ttest_rel()\n",
    "Будем использовать гипотезу о равенстве средних для зависимых (парных) выборок."
   ]
  },
  {
   "cell_type": "markdown",
   "id": "a2af9f7c",
   "metadata": {},
   "source": [
    "Общий вывод\n",
    "Я провел исследовательский анализ данных, подсчитал выручку у пользователей с подпиской и без, проверил несколько гипотез и по проведенному анализу, могу сделать следующий вывод, что пользователи с подпиской Ultra являются более выгодными, т.к. выручка от них больше.\n",
    "\n",
    "Но стоит взять во внимание и тот факт, что пользователи с подпиской преодолевают больше растояния чем пользователи без подписки и превышают оптимальное расстояние для износа самоката, что может повлечь за собой дополнительные расходы на обслуживание и ремонт."
   ]
  },
  {
   "cell_type": "markdown",
   "id": "f8c4c580",
   "metadata": {},
   "source": [
    "Общий вывод\n",
    "Я провел анализ данных 3х баз данных сервиса GoFast: с пользователями, информацией о поездках, информацией о подписках.\n",
    "\n",
    "Изначально я провел анализ на пропуски и будликаты, поменял тип данных у столбца date. \n",
    "Добавил столбец month с номером месяца.\n",
    "\n",
    "После обраотки данных перешел к анализу информации\n",
    "\n",
    "Определил что:\n",
    "-лидером по количеству пользователей является Пятигорск - 219 пользователей. Меньше всего пользователей в Москве - 168.\n",
    "- пользователей, использующих бесплатную подписку больше - 835 человек, что является ~54% от общего числа пользователей. На платной подписке сидит 699 пользователей, что соответственно является ~46%.\n",
    "- возраст пользователей укладывается в промежуток от 20 до 30 лет\n",
    "- основном пользователи проезжают от 2.5 км до 4 км.\n",
    "- чаще всего длительность поездки состовляет 13 - 22 минут\n",
    "\n",
    "Объединил данные о пользователях, поездках и подписках в один датафрейм. На основе объединенного датафрейма создали еще 2 датафрейма:\n",
    "\n",
    "Для пользователей с ultra подпиской\n",
    "Для пользователей с free подпиской\n",
    "Дальше визуализировал информацию о расстоянии и времени поездки для пользоватей каждого тарифа.\n",
    "\n",
    "Для бесплатного тарифа:\n",
    "- время поездки составляет от 10 до 30 минут\n",
    "- проезжают в среднем от 2 до 5 км \n",
    "\n",
    "\n",
    "Платный тариф:\n",
    "- время поездки составляет от 15 до 25 минут\n",
    "- проезжают в среднем от 2.5 до 3.5 км  \n",
    "Нашли суммарное расстояние, количество поездок и суммарное время для каждого пользователя за каждый месяц.\n",
    "\n",
    "Проверили гипотезы:\n",
    "\n",
    "Длительность поездки у пользователей с подпиской и без неё, равна\n",
    "Отвергаем нулевую гипотезу\n",
    "Среднее расстояние пользователей с подпиской равно 3130 метров\n",
    "Не получилось отвергнуть нулевую гипотезу\n",
    "Выручка обеих категорий пользователей равна\n",
    "Отвергли нулевую гипотезу"
   ]
  }
 ],
 "metadata": {
  "kernelspec": {
   "display_name": "Python 3 (ipykernel)",
   "language": "python",
   "name": "python3"
  },
  "language_info": {
   "codemirror_mode": {
    "name": "ipython",
    "version": 3
   },
   "file_extension": ".py",
   "mimetype": "text/x-python",
   "name": "python",
   "nbconvert_exporter": "python",
   "pygments_lexer": "ipython3",
   "version": "3.9.5"
  },
  "toc": {
   "base_numbering": 1,
   "nav_menu": {},
   "number_sections": true,
   "sideBar": true,
   "skip_h1_title": true,
   "title_cell": "Table of Contents",
   "title_sidebar": "Contents",
   "toc_cell": false,
   "toc_position": {},
   "toc_section_display": true,
   "toc_window_display": false
  }
 },
 "nbformat": 4,
 "nbformat_minor": 5
}
